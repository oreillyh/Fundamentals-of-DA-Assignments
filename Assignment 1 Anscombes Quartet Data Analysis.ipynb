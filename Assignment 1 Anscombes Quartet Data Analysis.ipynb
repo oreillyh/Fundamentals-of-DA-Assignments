{
 "cells": [
  {
   "cell_type": "markdown",
   "metadata": {},
   "source": [
    "# **Fundamentals of Data Analytics Assignment 1**\n",
    "\n",
    "## **Anscombes DataSet Analysis**\n"
   ]
  },
  {
   "cell_type": "markdown",
   "metadata": {},
   "source": [
    "## CONTENTS\n",
    "\n",
    "### 1. Background to the Data Set\n",
    "___\n",
    "### 2. Interesting Aspects of the Data Set\n",
    "___\n",
    "### 3. Descriptive Statistics\n",
    "___\n",
    "### 4. Discussion of Statistics and their Visualisation\n",
    "___"
   ]
  },
  {
   "cell_type": "markdown",
   "metadata": {},
   "source": [
    "### 1.Background to the Data Set\n",
    "___\n",
    "##### Frank Anscombe\n",
    "\n",
    "Francis (Frank) Anscombe (13 May 1918 – 17 October 2001) was a Cambridge educated English statistician who became interested in statistical computing and used the dataset that bears his name to demonstrate the importance of graphical representations of data. His brother-in-law was the famous American Mathematician Alan Tukey |![](Francis_Anscombe.PNG) [https://en.wikipedia.org/wiki/Frank_Anscombe]\n",
    "___\n",
    "\n",
    "Anscombes Dataset (or Anscombes Quartet) is a set of 4 datasets developed by a statistician Francis Anscombe in 1973 whose descriptive statistics are identical but when visualised graphically can be seen to be very different. The datasets also demonstrate the effect of outliers on summary statistics. Each of the 4 datasets has 11 x,y points and while summary statistics don't show differences in the data, graphical representations show the relationships between the x and y coordinates in each set [https://en.wikipedia.org/wiki/Anscombe%27s_quartet] Anscombe used these differences to show that BOTH calculated data and graphs lead to better understanding. Anscombe also argued that any analysis of data should be sensitive to 'peculiar features' in the given numbers and also to the background to the data. (Shouldn't a good data analysis take into account the nature and context of the data *e.g.* financial, medical, biological, engineering, manufacturing etc?) In his paper [http://www.sjsu.edu/faculty/gerstman/StatPrimer/anscombe1973.pdf] Anscombe descibes the fundamentals of linear regression beginning with the process of generating a scatter plot of dependent, y and independent, x variables in order to *see* the relationship between variables *i.e.* straight line, curved, scattered or \"something inbetween\". They may also lie near the line or curve or be far away - outliers. Seeing the presence of outliers whcih may not be apperent in the regression equation should prompt a check to see if they are true values or the result of a mistake. If not then outliers may be treated in their own way.\n",
    "___\n",
    "Depending on the nature of the regression, if a linear relationship doesnt exist *i.e.* curved the x or y variables may be transformed to create a linear model.\n"
   ]
  },
  {
   "cell_type": "code",
   "execution_count": null,
   "metadata": {},
   "outputs": [],
   "source": []
  }
 ],
 "metadata": {
  "kernelspec": {
   "display_name": "Python 3",
   "language": "python",
   "name": "python3"
  },
  "language_info": {
   "codemirror_mode": {
    "name": "ipython",
    "version": 3
   },
   "file_extension": ".py",
   "mimetype": "text/x-python",
   "name": "python",
   "nbconvert_exporter": "python",
   "pygments_lexer": "ipython3",
   "version": "3.6.6"
  }
 },
 "nbformat": 4,
 "nbformat_minor": 2
}
