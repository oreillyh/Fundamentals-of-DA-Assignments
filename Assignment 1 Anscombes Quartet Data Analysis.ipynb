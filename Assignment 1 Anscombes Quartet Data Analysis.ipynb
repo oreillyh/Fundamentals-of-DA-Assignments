{
 "cells": [
  {
   "cell_type": "markdown",
   "metadata": {},
   "source": [
    "# **Fundamentals of Data Analytics Assignment 1**\n",
    "\n",
    "## **Anscombes DataSet Analysis**\n"
   ]
  },
  {
   "cell_type": "markdown",
   "metadata": {},
   "source": [
    "## CONTENTS\n",
    "\n",
    "### 1. Background to the Data Set\n",
    "____\n",
    "### 2. Plots of Interesting Aspects of the Data Set\n",
    "____\n",
    "### 3. Descriptive Statistics\n",
    "____\n",
    "### 4. Discussion of Statistics and their Visualisation\n",
    "____"
   ]
  },
  {
   "cell_type": "markdown",
   "metadata": {},
   "source": [
    "### 1.Background to the Data Set\n",
    "___\n",
    "##### Frank Anscombe\n",
    "\n",
    "Francis (Frank) Anscombe (13 May 1918 – 17 October 2001) was a Cambridge educated English statistician who became interested in statistical computing. He used the dataset that bears his name to demonstrate the importance of graphical representations of data. His brother-in-law was the famous American Mathematician Alan Tukey |![](https://upload.wikimedia.org/wikipedia/en/d/d5/Francis_Anscombe.jpeg) [https://en.wikipedia.org/wiki/Frank_Anscombe]\n",
    "___\n",
    "\n",
    "Anscombes Dataset (or Anscombes Quartet) is a set of 4 datasets developed by a statistician Francis Anscombe in 1973 whose descriptive statistics are identical but when visualised graphically can be seen to be very different. The datasets also demonstrate the effect of outliers on summary statistics. \n",
    "\n",
    "Each of the 4 datasets has 11 x and y points and while summary statistics don't show differences in the data, graphical representations show the relationships between the x and y coordinates in each set [https://en.wikipedia.org/wiki/Anscombe%27s_quartet] Anscombe used these differences to show that BOTH calculated data and graphs lead to better understanding. Anscombe also argued that any analysis of data should be sensitive to 'peculiar features' in the given numbers and also to the background to the data. (Shouldn't good data analysis take into account the nature and context of the data *e.g.* financial, medical, biological, engineering, manufacturing etc?) In his paper [http://www.sjsu.edu/faculty/gerstman/StatPrimer/anscombe1973.pdf] Anscombe describes the fundamentals of linear regression beginning with the process of generating a scatter plot of dependent, y and independent, x variables in order to *see* the relationship between variables *i.e.* straight line, curved, scattered or \"something inbetween\". The regression equation is a mathematical means of describing the relationship between the x and y variables.  The data points may also lie near the line or curve or be far away - outliers. Seeing the presence of outliers which may not be apparent in the regression equation should prompt a check to see if they are true values or the result of a mistake during data acquisition. If not then outliers may be treated in their own way. An accurate regression enables us to accurately predict unknown independent variables based on known dependent variables. *i.e.* if we know x we can predict y, using the regression equation. Outliers may reduce the accuracy of the regression equation. The 'Goodness of fit' of the Linear regression equation is determined by calculating the 'R^2' value\n",
    "___\n",
    "Depending on the nature of the regression, if a linear relationship doesnt exist *i.e.* curved the x or y variables may be mathematically transformed to create a linear model.\n"
   ]
  },
  {
   "cell_type": "markdown",
   "metadata": {},
   "source": [
    "### 2. Plots of Interesting Aspects of the Data Set"
   ]
  },
  {
   "cell_type": "markdown",
   "metadata": {},
   "source": [
    "#### The following section imports the entire Anscombe Quartet DataSet as a csv file using the Pandas Library"
   ]
  },
  {
   "cell_type": "code",
   "execution_count": 97,
   "metadata": {
    "scrolled": true
   },
   "outputs": [
    {
     "data": {
      "text/html": [
       "<div>\n",
       "<style scoped>\n",
       "    .dataframe tbody tr th:only-of-type {\n",
       "        vertical-align: middle;\n",
       "    }\n",
       "\n",
       "    .dataframe tbody tr th {\n",
       "        vertical-align: top;\n",
       "    }\n",
       "\n",
       "    .dataframe thead th {\n",
       "        text-align: right;\n",
       "    }\n",
       "</style>\n",
       "<table border=\"1\" class=\"dataframe\">\n",
       "  <thead>\n",
       "    <tr style=\"text-align: right;\">\n",
       "      <th></th>\n",
       "      <th>dataset</th>\n",
       "      <th>x</th>\n",
       "      <th>y</th>\n",
       "    </tr>\n",
       "  </thead>\n",
       "  <tbody>\n",
       "    <tr>\n",
       "      <th>0</th>\n",
       "      <td>I</td>\n",
       "      <td>10</td>\n",
       "      <td>8.04</td>\n",
       "    </tr>\n",
       "    <tr>\n",
       "      <th>1</th>\n",
       "      <td>I</td>\n",
       "      <td>8</td>\n",
       "      <td>6.95</td>\n",
       "    </tr>\n",
       "    <tr>\n",
       "      <th>2</th>\n",
       "      <td>I</td>\n",
       "      <td>13</td>\n",
       "      <td>7.58</td>\n",
       "    </tr>\n",
       "    <tr>\n",
       "      <th>3</th>\n",
       "      <td>I</td>\n",
       "      <td>9</td>\n",
       "      <td>8.81</td>\n",
       "    </tr>\n",
       "    <tr>\n",
       "      <th>4</th>\n",
       "      <td>I</td>\n",
       "      <td>11</td>\n",
       "      <td>8.33</td>\n",
       "    </tr>\n",
       "    <tr>\n",
       "      <th>5</th>\n",
       "      <td>I</td>\n",
       "      <td>14</td>\n",
       "      <td>9.96</td>\n",
       "    </tr>\n",
       "    <tr>\n",
       "      <th>6</th>\n",
       "      <td>I</td>\n",
       "      <td>6</td>\n",
       "      <td>7.24</td>\n",
       "    </tr>\n",
       "    <tr>\n",
       "      <th>7</th>\n",
       "      <td>I</td>\n",
       "      <td>4</td>\n",
       "      <td>4.26</td>\n",
       "    </tr>\n",
       "    <tr>\n",
       "      <th>8</th>\n",
       "      <td>I</td>\n",
       "      <td>12</td>\n",
       "      <td>10.84</td>\n",
       "    </tr>\n",
       "    <tr>\n",
       "      <th>9</th>\n",
       "      <td>I</td>\n",
       "      <td>7</td>\n",
       "      <td>4.82</td>\n",
       "    </tr>\n",
       "    <tr>\n",
       "      <th>10</th>\n",
       "      <td>I</td>\n",
       "      <td>5</td>\n",
       "      <td>5.68</td>\n",
       "    </tr>\n",
       "    <tr>\n",
       "      <th>11</th>\n",
       "      <td>II</td>\n",
       "      <td>10</td>\n",
       "      <td>9.14</td>\n",
       "    </tr>\n",
       "    <tr>\n",
       "      <th>12</th>\n",
       "      <td>II</td>\n",
       "      <td>8</td>\n",
       "      <td>8.14</td>\n",
       "    </tr>\n",
       "    <tr>\n",
       "      <th>13</th>\n",
       "      <td>II</td>\n",
       "      <td>13</td>\n",
       "      <td>8.74</td>\n",
       "    </tr>\n",
       "    <tr>\n",
       "      <th>14</th>\n",
       "      <td>II</td>\n",
       "      <td>9</td>\n",
       "      <td>8.77</td>\n",
       "    </tr>\n",
       "    <tr>\n",
       "      <th>15</th>\n",
       "      <td>II</td>\n",
       "      <td>11</td>\n",
       "      <td>9.26</td>\n",
       "    </tr>\n",
       "    <tr>\n",
       "      <th>16</th>\n",
       "      <td>II</td>\n",
       "      <td>14</td>\n",
       "      <td>8.10</td>\n",
       "    </tr>\n",
       "    <tr>\n",
       "      <th>17</th>\n",
       "      <td>II</td>\n",
       "      <td>6</td>\n",
       "      <td>6.13</td>\n",
       "    </tr>\n",
       "    <tr>\n",
       "      <th>18</th>\n",
       "      <td>II</td>\n",
       "      <td>4</td>\n",
       "      <td>3.10</td>\n",
       "    </tr>\n",
       "    <tr>\n",
       "      <th>19</th>\n",
       "      <td>II</td>\n",
       "      <td>12</td>\n",
       "      <td>9.13</td>\n",
       "    </tr>\n",
       "    <tr>\n",
       "      <th>20</th>\n",
       "      <td>II</td>\n",
       "      <td>7</td>\n",
       "      <td>7.26</td>\n",
       "    </tr>\n",
       "    <tr>\n",
       "      <th>21</th>\n",
       "      <td>II</td>\n",
       "      <td>5</td>\n",
       "      <td>4.74</td>\n",
       "    </tr>\n",
       "    <tr>\n",
       "      <th>22</th>\n",
       "      <td>III</td>\n",
       "      <td>10</td>\n",
       "      <td>7.46</td>\n",
       "    </tr>\n",
       "    <tr>\n",
       "      <th>23</th>\n",
       "      <td>III</td>\n",
       "      <td>8</td>\n",
       "      <td>6.77</td>\n",
       "    </tr>\n",
       "    <tr>\n",
       "      <th>24</th>\n",
       "      <td>III</td>\n",
       "      <td>13</td>\n",
       "      <td>12.74</td>\n",
       "    </tr>\n",
       "    <tr>\n",
       "      <th>25</th>\n",
       "      <td>III</td>\n",
       "      <td>9</td>\n",
       "      <td>7.11</td>\n",
       "    </tr>\n",
       "    <tr>\n",
       "      <th>26</th>\n",
       "      <td>III</td>\n",
       "      <td>11</td>\n",
       "      <td>7.81</td>\n",
       "    </tr>\n",
       "    <tr>\n",
       "      <th>27</th>\n",
       "      <td>III</td>\n",
       "      <td>14</td>\n",
       "      <td>8.84</td>\n",
       "    </tr>\n",
       "    <tr>\n",
       "      <th>28</th>\n",
       "      <td>III</td>\n",
       "      <td>6</td>\n",
       "      <td>6.08</td>\n",
       "    </tr>\n",
       "    <tr>\n",
       "      <th>29</th>\n",
       "      <td>III</td>\n",
       "      <td>4</td>\n",
       "      <td>5.39</td>\n",
       "    </tr>\n",
       "    <tr>\n",
       "      <th>30</th>\n",
       "      <td>III</td>\n",
       "      <td>12</td>\n",
       "      <td>8.15</td>\n",
       "    </tr>\n",
       "    <tr>\n",
       "      <th>31</th>\n",
       "      <td>III</td>\n",
       "      <td>7</td>\n",
       "      <td>6.42</td>\n",
       "    </tr>\n",
       "    <tr>\n",
       "      <th>32</th>\n",
       "      <td>III</td>\n",
       "      <td>5</td>\n",
       "      <td>5.73</td>\n",
       "    </tr>\n",
       "    <tr>\n",
       "      <th>33</th>\n",
       "      <td>IV</td>\n",
       "      <td>8</td>\n",
       "      <td>6.58</td>\n",
       "    </tr>\n",
       "    <tr>\n",
       "      <th>34</th>\n",
       "      <td>IV</td>\n",
       "      <td>8</td>\n",
       "      <td>5.76</td>\n",
       "    </tr>\n",
       "    <tr>\n",
       "      <th>35</th>\n",
       "      <td>IV</td>\n",
       "      <td>8</td>\n",
       "      <td>7.71</td>\n",
       "    </tr>\n",
       "    <tr>\n",
       "      <th>36</th>\n",
       "      <td>IV</td>\n",
       "      <td>8</td>\n",
       "      <td>8.84</td>\n",
       "    </tr>\n",
       "    <tr>\n",
       "      <th>37</th>\n",
       "      <td>IV</td>\n",
       "      <td>8</td>\n",
       "      <td>8.47</td>\n",
       "    </tr>\n",
       "    <tr>\n",
       "      <th>38</th>\n",
       "      <td>IV</td>\n",
       "      <td>8</td>\n",
       "      <td>7.04</td>\n",
       "    </tr>\n",
       "    <tr>\n",
       "      <th>39</th>\n",
       "      <td>IV</td>\n",
       "      <td>8</td>\n",
       "      <td>5.25</td>\n",
       "    </tr>\n",
       "    <tr>\n",
       "      <th>40</th>\n",
       "      <td>IV</td>\n",
       "      <td>19</td>\n",
       "      <td>12.50</td>\n",
       "    </tr>\n",
       "    <tr>\n",
       "      <th>41</th>\n",
       "      <td>IV</td>\n",
       "      <td>8</td>\n",
       "      <td>5.56</td>\n",
       "    </tr>\n",
       "    <tr>\n",
       "      <th>42</th>\n",
       "      <td>IV</td>\n",
       "      <td>8</td>\n",
       "      <td>7.91</td>\n",
       "    </tr>\n",
       "    <tr>\n",
       "      <th>43</th>\n",
       "      <td>IV</td>\n",
       "      <td>8</td>\n",
       "      <td>6.89</td>\n",
       "    </tr>\n",
       "  </tbody>\n",
       "</table>\n",
       "</div>"
      ],
      "text/plain": [
       "   dataset   x      y\n",
       "0        I  10   8.04\n",
       "1        I   8   6.95\n",
       "2        I  13   7.58\n",
       "3        I   9   8.81\n",
       "4        I  11   8.33\n",
       "5        I  14   9.96\n",
       "6        I   6   7.24\n",
       "7        I   4   4.26\n",
       "8        I  12  10.84\n",
       "9        I   7   4.82\n",
       "10       I   5   5.68\n",
       "11      II  10   9.14\n",
       "12      II   8   8.14\n",
       "13      II  13   8.74\n",
       "14      II   9   8.77\n",
       "15      II  11   9.26\n",
       "16      II  14   8.10\n",
       "17      II   6   6.13\n",
       "18      II   4   3.10\n",
       "19      II  12   9.13\n",
       "20      II   7   7.26\n",
       "21      II   5   4.74\n",
       "22     III  10   7.46\n",
       "23     III   8   6.77\n",
       "24     III  13  12.74\n",
       "25     III   9   7.11\n",
       "26     III  11   7.81\n",
       "27     III  14   8.84\n",
       "28     III   6   6.08\n",
       "29     III   4   5.39\n",
       "30     III  12   8.15\n",
       "31     III   7   6.42\n",
       "32     III   5   5.73\n",
       "33      IV   8   6.58\n",
       "34      IV   8   5.76\n",
       "35      IV   8   7.71\n",
       "36      IV   8   8.84\n",
       "37      IV   8   8.47\n",
       "38      IV   8   7.04\n",
       "39      IV   8   5.25\n",
       "40      IV  19  12.50\n",
       "41      IV   8   5.56\n",
       "42      IV   8   7.91\n",
       "43      IV   8   6.89"
      ]
     },
     "execution_count": 97,
     "metadata": {},
     "output_type": "execute_result"
    }
   ],
   "source": [
    "import pandas as pd #import pandas module to work on dataset\n",
    "import numpy as np #import Numpy module to work on dataset\n",
    "import scipy as sp #import Scipy module to work on dataset\n",
    "from scipy import stats #import Stats module to work on dataset\n",
    "import seaborn as sns #import Seaborn module to work on dataset\n",
    "\n",
    "Quartet = pd.read_csv (\"anscombes_DataSet_csv.csv\") #import the Anscombe dataset as a csv ('Comma separated values') file\n",
    "Quartet #Display the Entire Dataset\n"
   ]
  },
  {
   "cell_type": "markdown",
   "metadata": {},
   "source": [
    "#### The following section splits the Quartet into its four sections for plotting individual scatter plots"
   ]
  },
  {
   "cell_type": "code",
   "execution_count": 98,
   "metadata": {
    "scrolled": true
   },
   "outputs": [],
   "source": [
    "import matplotlib.pyplot as plt #Import matplotlib to generate plots of the data\n",
    "import numpy as np\n",
    "%matplotlib inline #Displays matplotlib plots in the Jupyter notebook output\n",
    "\n",
    "#Data sets split for individual plotting\n",
    "set1 = Quartet[:11] \n",
    "set2 = Quartet[11:22]\n",
    "set3 = Quartet[22:33]\n",
    "set4 = Quartet[33:]\n"
   ]
  },
  {
   "cell_type": "code",
   "execution_count": 99,
   "metadata": {},
   "outputs": [
    {
     "data": {
      "image/png": "[encoded data removed]",
      "text/plain": [
       "<matplotlib.figure.Figure at 0x26fa03a3630>"
      ]
     },
     "metadata": {
      "needs_background": "light"
     },
     "output_type": "display_data"
    }
   ],
   "source": [
    "#scatter plot of set1\n",
    "x1 = set1.iloc[:,1] #defines column for x\n",
    "y1 = set1.iloc[:,2] #defines column for y\n",
    "plt.title(\"Scatter Plot of Set 1\")\n",
    "plt.xlabel(\"x\") # x label\n",
    "plt.ylabel(\"y\") # y label\n",
    "graph1 = plt.scatter(x1,y1)\n",
    "plt.setp(graph1, color='r') #sets graph colour to green\n",
    "plt.axis([0, 20, 0, 13]) #sets axes lower and upper limits\n",
    "plt.show()"
   ]
  },
  {
   "cell_type": "code",
   "execution_count": 100,
   "metadata": {},
   "outputs": [
    {
     "data": {
      "image/png": "[encoded data removed]",
      "text/plain": [
       "<matplotlib.figure.Figure at 0x26fa03e7588>"
      ]
     },
     "metadata": {
      "needs_background": "light"
     },
     "output_type": "display_data"
    }
   ],
   "source": [
    "#scatter plot of set2\n",
    "x2 = set2.iloc[:,1] # defines column for x\n",
    "y2 = set2.iloc[:,2] # defines column for y\n",
    "plt.title(\"Scatter Plot of Set 2\") # graph title\n",
    "plt.xlabel(\"x\") # x label\n",
    "plt.ylabel(\"y\") # y label\n",
    "graph2 = plt.scatter(x2,y2) # describes x,y scatter plot\n",
    "plt.setp(graph2, color='y') # sets graph colour to yellow\n",
    "plt.axis([0, 20, 0, 13]) #sets axes lower and upper limits\n",
    "plt.show()"
   ]
  },
  {
   "cell_type": "code",
   "execution_count": 101,
   "metadata": {},
   "outputs": [
    {
     "data": {
      "image/png": "[encoded data removed]",
      "text/plain": [
       "<matplotlib.figure.Figure at 0x26f9dcc7e80>"
      ]
     },
     "metadata": {
      "needs_background": "light"
     },
     "output_type": "display_data"
    }
   ],
   "source": [
    "#scatter plot of set3\n",
    "x3 = set3.iloc[:,1] #defines column for x\n",
    "y3 = set3.iloc[:,2] #defines column for y\n",
    "plt.title(\"Scatter Plot of Set 3\")\n",
    "plt.xlabel(\"x\") # x label\n",
    "plt.ylabel(\"y\") # y label\n",
    "graph3 = plt.scatter(x3,y3) #describes x,y scatter plot\n",
    "plt.setp(graph3, color='g') #sets graph colour to green\n",
    "plt.axis([0, 20, 0, 13]) #sets axes lower and upper limits\n",
    "plt.show()"
   ]
  },
  {
   "cell_type": "code",
   "execution_count": 102,
   "metadata": {
    "scrolled": true
   },
   "outputs": [
    {
     "data": {
      "image/png": "[encoded data removed]",
      "text/plain": [
       "<matplotlib.figure.Figure at 0x26f9e1860f0>"
      ]
     },
     "metadata": {
      "needs_background": "light"
     },
     "output_type": "display_data"
    }
   ],
   "source": [
    "#scatter plot of set4\n",
    "x4 = set4.iloc[:,1] #defines column for x\n",
    "y4 = set4.iloc[:,2] #defines column for y\n",
    "plt.title(\"Scatter Plot of Set 4\")\n",
    "plt.xlabel(\"x\") # x label\n",
    "plt.ylabel(\"y\") # y label\n",
    "graph4 = plt.scatter(x4,y4) #describes x,y scatter plot\n",
    "plt.setp(graph4, color='b') #sets graph colour to blue\n",
    "plt.axis([0, 20, 0, 13]) #sets axes lower and upper limits\n",
    "plt.show()"
   ]
  },
  {
   "cell_type": "markdown",
   "metadata": {},
   "source": [
    "#### The following section displays the four sections as subplots "
   ]
  },
  {
   "cell_type": "code",
   "execution_count": 103,
   "metadata": {},
   "outputs": [
    {
     "data": {
      "text/plain": [
       "Text(0.5,1,'Scatter Plot of Set 4')"
      ]
     },
     "execution_count": 103,
     "metadata": {},
     "output_type": "execute_result"
    },
    {
     "data": {
      "image/png": "[encoded data removed]",
      "text/plain": [
       "<matplotlib.figure.Figure at 0x26fa0575320>"
      ]
     },
     "metadata": {
      "needs_background": "light"
     },
     "output_type": "display_data"
    },
    {
     "data": {
      "image/png": "[encoded data removed]",
      "text/plain": [
       "<matplotlib.figure.Figure at 0x26fa05459b0>"
      ]
     },
     "metadata": {
      "needs_background": "light"
     },
     "output_type": "display_data"
    },
    {
     "data": {
      "image/png": "[encoded data removed]",
      "text/plain": [
       "<matplotlib.figure.Figure at 0x26fa051ee10>"
      ]
     },
     "metadata": {
      "needs_background": "light"
     },
     "output_type": "display_data"
    },
    {
     "data": {
      "image/png": "[encoded data removed]",
      "text/plain": [
       "<matplotlib.figure.Figure at 0x26f9fda1390>"
      ]
     },
     "metadata": {
      "needs_background": "light"
     },
     "output_type": "display_data"
    }
   ],
   "source": [
    "#subplots defined and plotted (easier for visualisation, when all plots are together)\n",
    "plt.figure(1)\n",
    "ax1 = plt.subplot(111)\n",
    "graph1 = plt.scatter(x1,y1)\n",
    "plt.setp(graph1, color='r')\n",
    "plt.axis([0, 20, 0, 13])\n",
    "plt.title(\"Scatter Plot of Set 1\")\n",
    "\n",
    "plt.figure(2)\n",
    "ax2 = set2\n",
    "ax2 = plt.subplot(111)\n",
    "graph2 = plt.scatter(x2,y2)\n",
    "plt.setp(graph2, color='y')\n",
    "plt.axis([0, 20, 0, 13])\n",
    "plt.title(\"Scatter Plot of Set 2\")\n",
    "\n",
    "plt.figure(3)\n",
    "ax3 = set3\n",
    "ax3 = plt.subplot(111)\n",
    "graph3 = plt.scatter(x3,y3)\n",
    "plt.setp(graph3, color='g')\n",
    "plt.axis([0, 20, 0, 13])\n",
    "plt.title(\"Scatter Plot of Set 3\")\n",
    "\n",
    "plt.figure(4)\n",
    "ax4 = set4\n",
    "ax4 = plt.subplot(111)\n",
    "graph4 = plt.scatter(x4,y4)\n",
    "plt.setp(graph4, color='b')\n",
    "plt.axis([0, 20, 0, 13])\n",
    "plt.title(\"Scatter Plot of Set 4\")"
   ]
  },
  {
   "cell_type": "markdown",
   "metadata": {},
   "source": [
    "### 3. Descriptive Statistics of the Data Set"
   ]
  },
  {
   "cell_type": "markdown",
   "metadata": {},
   "source": [
    "**Descriptive tables of statistics of the DataSet generated"
   ]
  },
  {
   "cell_type": "code",
   "execution_count": 120,
   "metadata": {},
   "outputs": [
    {
     "data": {
      "text/html": [
       "<div>\n",
       "<style scoped>\n",
       "    .dataframe tbody tr th:only-of-type {\n",
       "        vertical-align: middle;\n",
       "    }\n",
       "\n",
       "    .dataframe tbody tr th {\n",
       "        vertical-align: top;\n",
       "    }\n",
       "\n",
       "    .dataframe thead tr th {\n",
       "        text-align: left;\n",
       "    }\n",
       "\n",
       "    .dataframe thead tr:last-of-type th {\n",
       "        text-align: right;\n",
       "    }\n",
       "</style>\n",
       "<table border=\"1\" class=\"dataframe\">\n",
       "  <thead>\n",
       "    <tr>\n",
       "      <th></th>\n",
       "      <th colspan=\"8\" halign=\"left\">x</th>\n",
       "      <th colspan=\"8\" halign=\"left\">y</th>\n",
       "    </tr>\n",
       "    <tr>\n",
       "      <th></th>\n",
       "      <th>count</th>\n",
       "      <th>mean</th>\n",
       "      <th>std</th>\n",
       "      <th>min</th>\n",
       "      <th>25%</th>\n",
       "      <th>50%</th>\n",
       "      <th>75%</th>\n",
       "      <th>max</th>\n",
       "      <th>count</th>\n",
       "      <th>mean</th>\n",
       "      <th>std</th>\n",
       "      <th>min</th>\n",
       "      <th>25%</th>\n",
       "      <th>50%</th>\n",
       "      <th>75%</th>\n",
       "      <th>max</th>\n",
       "    </tr>\n",
       "    <tr>\n",
       "      <th>dataset</th>\n",
       "      <th></th>\n",
       "      <th></th>\n",
       "      <th></th>\n",
       "      <th></th>\n",
       "      <th></th>\n",
       "      <th></th>\n",
       "      <th></th>\n",
       "      <th></th>\n",
       "      <th></th>\n",
       "      <th></th>\n",
       "      <th></th>\n",
       "      <th></th>\n",
       "      <th></th>\n",
       "      <th></th>\n",
       "      <th></th>\n",
       "      <th></th>\n",
       "    </tr>\n",
       "  </thead>\n",
       "  <tbody>\n",
       "    <tr>\n",
       "      <th>I</th>\n",
       "      <td>11.0</td>\n",
       "      <td>9.0</td>\n",
       "      <td>3.316625</td>\n",
       "      <td>4.0</td>\n",
       "      <td>6.5</td>\n",
       "      <td>9.0</td>\n",
       "      <td>11.5</td>\n",
       "      <td>14.0</td>\n",
       "      <td>11.0</td>\n",
       "      <td>7.500909</td>\n",
       "      <td>2.031568</td>\n",
       "      <td>4.26</td>\n",
       "      <td>6.315</td>\n",
       "      <td>7.58</td>\n",
       "      <td>8.57</td>\n",
       "      <td>10.84</td>\n",
       "    </tr>\n",
       "    <tr>\n",
       "      <th>II</th>\n",
       "      <td>11.0</td>\n",
       "      <td>9.0</td>\n",
       "      <td>3.316625</td>\n",
       "      <td>4.0</td>\n",
       "      <td>6.5</td>\n",
       "      <td>9.0</td>\n",
       "      <td>11.5</td>\n",
       "      <td>14.0</td>\n",
       "      <td>11.0</td>\n",
       "      <td>7.500909</td>\n",
       "      <td>2.031657</td>\n",
       "      <td>3.10</td>\n",
       "      <td>6.695</td>\n",
       "      <td>8.14</td>\n",
       "      <td>8.95</td>\n",
       "      <td>9.26</td>\n",
       "    </tr>\n",
       "    <tr>\n",
       "      <th>III</th>\n",
       "      <td>11.0</td>\n",
       "      <td>9.0</td>\n",
       "      <td>3.316625</td>\n",
       "      <td>4.0</td>\n",
       "      <td>6.5</td>\n",
       "      <td>9.0</td>\n",
       "      <td>11.5</td>\n",
       "      <td>14.0</td>\n",
       "      <td>11.0</td>\n",
       "      <td>7.500000</td>\n",
       "      <td>2.030424</td>\n",
       "      <td>5.39</td>\n",
       "      <td>6.250</td>\n",
       "      <td>7.11</td>\n",
       "      <td>7.98</td>\n",
       "      <td>12.74</td>\n",
       "    </tr>\n",
       "    <tr>\n",
       "      <th>IV</th>\n",
       "      <td>11.0</td>\n",
       "      <td>9.0</td>\n",
       "      <td>3.316625</td>\n",
       "      <td>8.0</td>\n",
       "      <td>8.0</td>\n",
       "      <td>8.0</td>\n",
       "      <td>8.0</td>\n",
       "      <td>19.0</td>\n",
       "      <td>11.0</td>\n",
       "      <td>7.500909</td>\n",
       "      <td>2.030579</td>\n",
       "      <td>5.25</td>\n",
       "      <td>6.170</td>\n",
       "      <td>7.04</td>\n",
       "      <td>8.19</td>\n",
       "      <td>12.50</td>\n",
       "    </tr>\n",
       "  </tbody>\n",
       "</table>\n",
       "</div>"
      ],
      "text/plain": [
       "            x                                               y            \\\n",
       "        count mean       std  min  25%  50%   75%   max count      mean   \n",
       "dataset                                                                   \n",
       "I        11.0  9.0  3.316625  4.0  6.5  9.0  11.5  14.0  11.0  7.500909   \n",
       "II       11.0  9.0  3.316625  4.0  6.5  9.0  11.5  14.0  11.0  7.500909   \n",
       "III      11.0  9.0  3.316625  4.0  6.5  9.0  11.5  14.0  11.0  7.500000   \n",
       "IV       11.0  9.0  3.316625  8.0  8.0  8.0   8.0  19.0  11.0  7.500909   \n",
       "\n",
       "                                                   \n",
       "              std   min    25%   50%   75%    max  \n",
       "dataset                                            \n",
       "I        2.031568  4.26  6.315  7.58  8.57  10.84  \n",
       "II       2.031657  3.10  6.695  8.14  8.95   9.26  \n",
       "III      2.030424  5.39  6.250  7.11  7.98  12.74  \n",
       "IV       2.030579  5.25  6.170  7.04  8.19  12.50  "
      ]
     },
     "execution_count": 120,
     "metadata": {},
     "output_type": "execute_result"
    }
   ],
   "source": [
    "Quartet.groupby(\"dataset\").describe() # Code to generate 1 table of summary statistics \n",
    "# credit: https://vknight.org/unpeudemath/mathematics/2016/10/29/anscombes-quartet-variability-and-ciw.html"
   ]
  },
  {
   "cell_type": "code",
   "execution_count": 104,
   "metadata": {},
   "outputs": [
    {
     "data": {
      "text/html": [
       "<div>\n",
       "<style scoped>\n",
       "    .dataframe tbody tr th:only-of-type {\n",
       "        vertical-align: middle;\n",
       "    }\n",
       "\n",
       "    .dataframe tbody tr th {\n",
       "        vertical-align: top;\n",
       "    }\n",
       "\n",
       "    .dataframe thead th {\n",
       "        text-align: right;\n",
       "    }\n",
       "</style>\n",
       "<table border=\"1\" class=\"dataframe\">\n",
       "  <thead>\n",
       "    <tr style=\"text-align: right;\">\n",
       "      <th></th>\n",
       "      <th>x</th>\n",
       "      <th>y</th>\n",
       "    </tr>\n",
       "  </thead>\n",
       "  <tbody>\n",
       "    <tr>\n",
       "      <th>count</th>\n",
       "      <td>11.000000</td>\n",
       "      <td>11.000000</td>\n",
       "    </tr>\n",
       "    <tr>\n",
       "      <th>mean</th>\n",
       "      <td>9.000000</td>\n",
       "      <td>7.500909</td>\n",
       "    </tr>\n",
       "    <tr>\n",
       "      <th>std</th>\n",
       "      <td>3.316625</td>\n",
       "      <td>2.031568</td>\n",
       "    </tr>\n",
       "    <tr>\n",
       "      <th>min</th>\n",
       "      <td>4.000000</td>\n",
       "      <td>4.260000</td>\n",
       "    </tr>\n",
       "    <tr>\n",
       "      <th>25%</th>\n",
       "      <td>6.500000</td>\n",
       "      <td>6.315000</td>\n",
       "    </tr>\n",
       "    <tr>\n",
       "      <th>50%</th>\n",
       "      <td>9.000000</td>\n",
       "      <td>7.580000</td>\n",
       "    </tr>\n",
       "    <tr>\n",
       "      <th>75%</th>\n",
       "      <td>11.500000</td>\n",
       "      <td>8.570000</td>\n",
       "    </tr>\n",
       "    <tr>\n",
       "      <th>max</th>\n",
       "      <td>14.000000</td>\n",
       "      <td>10.840000</td>\n",
       "    </tr>\n",
       "  </tbody>\n",
       "</table>\n",
       "</div>"
      ],
      "text/plain": [
       "               x          y\n",
       "count  11.000000  11.000000\n",
       "mean    9.000000   7.500909\n",
       "std     3.316625   2.031568\n",
       "min     4.000000   4.260000\n",
       "25%     6.500000   6.315000\n",
       "50%     9.000000   7.580000\n",
       "75%    11.500000   8.570000\n",
       "max    14.000000  10.840000"
      ]
     },
     "execution_count": 104,
     "metadata": {},
     "output_type": "execute_result"
    }
   ],
   "source": [
    "set1.describe() #outputs a table of summary statistics for set1 of the quartet\n"
   ]
  },
  {
   "cell_type": "code",
   "execution_count": 105,
   "metadata": {},
   "outputs": [
    {
     "data": {
      "text/html": [
       "<div>\n",
       "<style scoped>\n",
       "    .dataframe tbody tr th:only-of-type {\n",
       "        vertical-align: middle;\n",
       "    }\n",
       "\n",
       "    .dataframe tbody tr th {\n",
       "        vertical-align: top;\n",
       "    }\n",
       "\n",
       "    .dataframe thead th {\n",
       "        text-align: right;\n",
       "    }\n",
       "</style>\n",
       "<table border=\"1\" class=\"dataframe\">\n",
       "  <thead>\n",
       "    <tr style=\"text-align: right;\">\n",
       "      <th></th>\n",
       "      <th>x</th>\n",
       "      <th>y</th>\n",
       "    </tr>\n",
       "  </thead>\n",
       "  <tbody>\n",
       "    <tr>\n",
       "      <th>count</th>\n",
       "      <td>11.000000</td>\n",
       "      <td>11.000000</td>\n",
       "    </tr>\n",
       "    <tr>\n",
       "      <th>mean</th>\n",
       "      <td>9.000000</td>\n",
       "      <td>7.500909</td>\n",
       "    </tr>\n",
       "    <tr>\n",
       "      <th>std</th>\n",
       "      <td>3.316625</td>\n",
       "      <td>2.031657</td>\n",
       "    </tr>\n",
       "    <tr>\n",
       "      <th>min</th>\n",
       "      <td>4.000000</td>\n",
       "      <td>3.100000</td>\n",
       "    </tr>\n",
       "    <tr>\n",
       "      <th>25%</th>\n",
       "      <td>6.500000</td>\n",
       "      <td>6.695000</td>\n",
       "    </tr>\n",
       "    <tr>\n",
       "      <th>50%</th>\n",
       "      <td>9.000000</td>\n",
       "      <td>8.140000</td>\n",
       "    </tr>\n",
       "    <tr>\n",
       "      <th>75%</th>\n",
       "      <td>11.500000</td>\n",
       "      <td>8.950000</td>\n",
       "    </tr>\n",
       "    <tr>\n",
       "      <th>max</th>\n",
       "      <td>14.000000</td>\n",
       "      <td>9.260000</td>\n",
       "    </tr>\n",
       "  </tbody>\n",
       "</table>\n",
       "</div>"
      ],
      "text/plain": [
       "               x          y\n",
       "count  11.000000  11.000000\n",
       "mean    9.000000   7.500909\n",
       "std     3.316625   2.031657\n",
       "min     4.000000   3.100000\n",
       "25%     6.500000   6.695000\n",
       "50%     9.000000   8.140000\n",
       "75%    11.500000   8.950000\n",
       "max    14.000000   9.260000"
      ]
     },
     "execution_count": 105,
     "metadata": {},
     "output_type": "execute_result"
    }
   ],
   "source": [
    "set2.describe()  #outputs a table of summary statistics for set2 of the quartet"
   ]
  },
  {
   "cell_type": "code",
   "execution_count": 106,
   "metadata": {},
   "outputs": [
    {
     "data": {
      "text/html": [
       "<div>\n",
       "<style scoped>\n",
       "    .dataframe tbody tr th:only-of-type {\n",
       "        vertical-align: middle;\n",
       "    }\n",
       "\n",
       "    .dataframe tbody tr th {\n",
       "        vertical-align: top;\n",
       "    }\n",
       "\n",
       "    .dataframe thead th {\n",
       "        text-align: right;\n",
       "    }\n",
       "</style>\n",
       "<table border=\"1\" class=\"dataframe\">\n",
       "  <thead>\n",
       "    <tr style=\"text-align: right;\">\n",
       "      <th></th>\n",
       "      <th>x</th>\n",
       "      <th>y</th>\n",
       "    </tr>\n",
       "  </thead>\n",
       "  <tbody>\n",
       "    <tr>\n",
       "      <th>count</th>\n",
       "      <td>11.000000</td>\n",
       "      <td>11.000000</td>\n",
       "    </tr>\n",
       "    <tr>\n",
       "      <th>mean</th>\n",
       "      <td>9.000000</td>\n",
       "      <td>7.500000</td>\n",
       "    </tr>\n",
       "    <tr>\n",
       "      <th>std</th>\n",
       "      <td>3.316625</td>\n",
       "      <td>2.030424</td>\n",
       "    </tr>\n",
       "    <tr>\n",
       "      <th>min</th>\n",
       "      <td>4.000000</td>\n",
       "      <td>5.390000</td>\n",
       "    </tr>\n",
       "    <tr>\n",
       "      <th>25%</th>\n",
       "      <td>6.500000</td>\n",
       "      <td>6.250000</td>\n",
       "    </tr>\n",
       "    <tr>\n",
       "      <th>50%</th>\n",
       "      <td>9.000000</td>\n",
       "      <td>7.110000</td>\n",
       "    </tr>\n",
       "    <tr>\n",
       "      <th>75%</th>\n",
       "      <td>11.500000</td>\n",
       "      <td>7.980000</td>\n",
       "    </tr>\n",
       "    <tr>\n",
       "      <th>max</th>\n",
       "      <td>14.000000</td>\n",
       "      <td>12.740000</td>\n",
       "    </tr>\n",
       "  </tbody>\n",
       "</table>\n",
       "</div>"
      ],
      "text/plain": [
       "               x          y\n",
       "count  11.000000  11.000000\n",
       "mean    9.000000   7.500000\n",
       "std     3.316625   2.030424\n",
       "min     4.000000   5.390000\n",
       "25%     6.500000   6.250000\n",
       "50%     9.000000   7.110000\n",
       "75%    11.500000   7.980000\n",
       "max    14.000000  12.740000"
      ]
     },
     "execution_count": 106,
     "metadata": {},
     "output_type": "execute_result"
    }
   ],
   "source": [
    "set3.describe()  #outputs a table of summary statistics for set3 of the quartet\n"
   ]
  },
  {
   "cell_type": "code",
   "execution_count": 107,
   "metadata": {},
   "outputs": [
    {
     "data": {
      "text/html": [
       "<div>\n",
       "<style scoped>\n",
       "    .dataframe tbody tr th:only-of-type {\n",
       "        vertical-align: middle;\n",
       "    }\n",
       "\n",
       "    .dataframe tbody tr th {\n",
       "        vertical-align: top;\n",
       "    }\n",
       "\n",
       "    .dataframe thead th {\n",
       "        text-align: right;\n",
       "    }\n",
       "</style>\n",
       "<table border=\"1\" class=\"dataframe\">\n",
       "  <thead>\n",
       "    <tr style=\"text-align: right;\">\n",
       "      <th></th>\n",
       "      <th>x</th>\n",
       "      <th>y</th>\n",
       "    </tr>\n",
       "  </thead>\n",
       "  <tbody>\n",
       "    <tr>\n",
       "      <th>count</th>\n",
       "      <td>11.000000</td>\n",
       "      <td>11.000000</td>\n",
       "    </tr>\n",
       "    <tr>\n",
       "      <th>mean</th>\n",
       "      <td>9.000000</td>\n",
       "      <td>7.500909</td>\n",
       "    </tr>\n",
       "    <tr>\n",
       "      <th>std</th>\n",
       "      <td>3.316625</td>\n",
       "      <td>2.030579</td>\n",
       "    </tr>\n",
       "    <tr>\n",
       "      <th>min</th>\n",
       "      <td>8.000000</td>\n",
       "      <td>5.250000</td>\n",
       "    </tr>\n",
       "    <tr>\n",
       "      <th>25%</th>\n",
       "      <td>8.000000</td>\n",
       "      <td>6.170000</td>\n",
       "    </tr>\n",
       "    <tr>\n",
       "      <th>50%</th>\n",
       "      <td>8.000000</td>\n",
       "      <td>7.040000</td>\n",
       "    </tr>\n",
       "    <tr>\n",
       "      <th>75%</th>\n",
       "      <td>8.000000</td>\n",
       "      <td>8.190000</td>\n",
       "    </tr>\n",
       "    <tr>\n",
       "      <th>max</th>\n",
       "      <td>19.000000</td>\n",
       "      <td>12.500000</td>\n",
       "    </tr>\n",
       "  </tbody>\n",
       "</table>\n",
       "</div>"
      ],
      "text/plain": [
       "               x          y\n",
       "count  11.000000  11.000000\n",
       "mean    9.000000   7.500909\n",
       "std     3.316625   2.030579\n",
       "min     8.000000   5.250000\n",
       "25%     8.000000   6.170000\n",
       "50%     8.000000   7.040000\n",
       "75%     8.000000   8.190000\n",
       "max    19.000000  12.500000"
      ]
     },
     "execution_count": 107,
     "metadata": {},
     "output_type": "execute_result"
    }
   ],
   "source": [
    "set4.describe()  #outputs a table of summary statistics for set4 of the quartet"
   ]
  },
  {
   "cell_type": "markdown",
   "metadata": {},
   "source": [
    "**Overall Mean of the 4 quartets"
   ]
  },
  {
   "cell_type": "code",
   "execution_count": 108,
   "metadata": {},
   "outputs": [
    {
     "data": {
      "text/plain": [
       "x    9.000000\n",
       "y    7.500682\n",
       "dtype: float64"
      ]
     },
     "execution_count": 108,
     "metadata": {},
     "output_type": "execute_result"
    }
   ],
   "source": [
    "Quartet.mean() #Overall means of entire dataset"
   ]
  },
  {
   "cell_type": "markdown",
   "metadata": {},
   "source": [
    "**The following code calculates the Pearson correlation coefficient for the 4 quartets"
   ]
  },
  {
   "cell_type": "code",
   "execution_count": 109,
   "metadata": {},
   "outputs": [
    {
     "data": {
      "text/plain": [
       "(0.81642051634484, 0.002169628873078789)"
      ]
     },
     "execution_count": 109,
     "metadata": {},
     "output_type": "execute_result"
    }
   ],
   "source": [
    "sp.stats.pearsonr(set1.iloc[:,1], set1.iloc[:,2]) #calculates the Pearson correlation coefficient for Set1\n",
    "# and the *p* value for non-correlation "
   ]
  },
  {
   "cell_type": "code",
   "execution_count": 110,
   "metadata": {},
   "outputs": [
    {
     "data": {
      "text/plain": [
       "(0.8162365060002427, 0.002178816236910803)"
      ]
     },
     "execution_count": 110,
     "metadata": {},
     "output_type": "execute_result"
    }
   ],
   "source": [
    "sp.stats.pearsonr(set2.iloc[:,1], set2.iloc[:,2]) #calculates the Pearson correlation coefficient for Set2\n",
    "# and the *p* value for non-correlation "
   ]
  },
  {
   "cell_type": "code",
   "execution_count": 111,
   "metadata": {},
   "outputs": [
    {
     "data": {
      "text/plain": [
       "(0.8162867394895981, 0.0021763052792280304)"
      ]
     },
     "execution_count": 111,
     "metadata": {},
     "output_type": "execute_result"
    }
   ],
   "source": [
    "sp.stats.pearsonr(set3.iloc[:,1], set3.iloc[:,2]) #calculates the Pearson correlation coefficient for Set3\n",
    "# and the *p* value for non-correlation "
   ]
  },
  {
   "cell_type": "code",
   "execution_count": 112,
   "metadata": {},
   "outputs": [
    {
     "data": {
      "text/plain": [
       "(0.816521436888503, 0.0021646023471972127)"
      ]
     },
     "execution_count": 112,
     "metadata": {},
     "output_type": "execute_result"
    }
   ],
   "source": [
    "sp.stats.pearsonr(set4.iloc[:,1], set4.iloc[:,2]) #calculates the Pearson correlation coefficient for Set4\n",
    "#and the *p* value for non-correlation "
   ]
  },
  {
   "cell_type": "markdown",
   "metadata": {},
   "source": [
    "**The following code creates graphs and shows the linear regression for each quartet using the Seaborn package"
   ]
  },
  {
   "cell_type": "code",
   "execution_count": 157,
   "metadata": {},
   "outputs": [
    {
     "data": {
      "text/plain": [
       "<seaborn.axisgrid.FacetGrid at 0x26fa6398f60>"
      ]
     },
     "execution_count": 157,
     "metadata": {},
     "output_type": "execute_result"
    },
    {
     "data": {
      "image/png": "[encoded data removed]",
      "text/plain": [
       "<matplotlib.figure.Figure at 0x26fa5334860>"
      ]
     },
     "metadata": {},
     "output_type": "display_data"
    }
   ],
   "source": [
    "# Visualisation of the Quartet using the Seaborn package\n",
    "#Credit: https://seaborn.pydata.org/examples/anscombes_quartet.html#anscombes-quartet\n",
    "sns.set(style=\"ticks\") #sets tickmarks on axes\n",
    "# Load the example dataset for Anscombe's quartet\n",
    "import seaborn as sns\n",
    "sns.set(style=\"ticks\")\n",
    "df = pd.read_csv (\"anscombes_DataSet_csv.csv\") \n",
    "\n",
    "# Show the results of a linear regression within each dataset\n",
    "sns.lmplot(x=\"x\", y=\"y\", col=\"dataset\", hue=\"dataset\", data=df,\n",
    "           col_wrap=2, ci=None, palette=\"muted\",\n",
    "           scatter_kws={\"s\": 50, \"alpha\": 1})"
   ]
  },
  {
   "cell_type": "markdown",
   "metadata": {},
   "source": [
    "**The following code displays plots of the quartets with associated regression equation, *p* and *R^2* Values"
   ]
  },
  {
   "cell_type": "code",
   "execution_count": 156,
   "metadata": {},
   "outputs": [
    {
     "name": "stderr",
     "output_type": "stream",
     "text": [
      "C:\\Users\\hugh_\\Anaconda3\\lib\\site-packages\\scipy\\stats\\stats.py:1713: FutureWarning: Using a non-tuple sequence for multidimensional indexing is deprecated; use `arr[tuple(seq)]` instead of `arr[seq]`. In the future this will be interpreted as an array index, `arr[np.array(seq)]`, which will result either in an error or a different result.\n",
      "  return np.add.reduce(sorted[indexer] * weights, axis=axis) / sumval\n"
     ]
    },
    {
     "data": {
      "image/png": "[encoded data removed]",
      "text/plain": [
       "<matplotlib.figure.Figure at 0x26fa6403860>"
      ]
     },
     "metadata": {},
     "output_type": "display_data"
    },
    {
     "data": {
      "image/png": "[encoded data removed]",
      "text/plain": [
       "<matplotlib.figure.Figure at 0x26fa6403908>"
      ]
     },
     "metadata": {},
     "output_type": "display_data"
    },
    {
     "data": {
      "image/png": "[encoded data removed]",
      "text/plain": [
       "<matplotlib.figure.Figure at 0x26fa649ef28>"
      ]
     },
     "metadata": {},
     "output_type": "display_data"
    },
    {
     "data": {
      "image/png": "[encoded data removed]",
      "text/plain": [
       "<matplotlib.figure.Figure at 0x26fa637f940>"
      ]
     },
     "metadata": {},
     "output_type": "display_data"
    }
   ],
   "source": [
    "#Alternative plot of the Data Set showing the linear regression equation, p value, R^2 value\n",
    "#Credit https://vknight.org/unpeudemath/mathematics/2016/10/29/anscombes-quartet-variability-and-ciw.html\n",
    "for data_set in Quartet.dataset.unique(): # A function to define the parameters of the plots and display linear regression eqn\n",
    "    # and its characteristics such as slope\n",
    "    df = Quartet.query(\"dataset == '{}'\".format(data_set)) # defines the plots as each quartet\n",
    "    slope, intercept, r_val, p_val, slope_std_error = stats.linregress(x=df.x, y=df.y)\n",
    "    sns.lmplot(x=\"x\", y=\"y\", data=df);\n",
    "    #displays the regression equation (and R^2 value) on the plots\n",
    "    plt.title(\"Data set {}: y={:.2f}x+{:.2f} (p: {:.2f}, R^2: {:.2f})\".format(data_set, slope, intercept, p_val, r_val)) "
   ]
  },
  {
   "cell_type": "markdown",
   "metadata": {},
   "source": [
    "### 4. Discussion of Statistics and their Visualisation\n",
    "\n",
    "#### Visualisation of Plots\n",
    "Simple scatter plots of Anscombes dataset show 4 very different relationships between the dependent and independent variables, y and x. The first set shows a broadly linear relationship but with many residual values, the second a possible quadratic curved pattern with little residual variability and the third and fourth show linear relationships but both have an outlier in each case. \n",
    "___\n",
    "\n",
    "The relationships between x and y variables for each quartet are also shown to be similar when the Pearsons correlation coefficients are calculated and found to be identical (at the first 2 decimal places).The Pearson correlation coefficient measures the linear relationship between two data sets https://docs.scipy.org/doc/scipy-0.14.0/reference/generated/scipy.stats.pearsonr.html. The *p* values for non-correlation are also low, implying that the x and y values are highly correllated\n",
    "\n",
    "Indeed the results of the linear regression generated using the 'Seaborn' package indicate identical regression equations despite the obvious differences in the plots. Research of the dataset in https://vknight.org/unpeudemath/mathematics/2016/10/29/anscombes-quartet-variability-and-ciw.html shows plots with the regression equation calculated and displayed on each plot as well as the R^2 values (The square of the Pearson correlation. The regression equation y = 0.5x + 3 and R^2 = 0.82 are the same for each set. Again, if one were to look at the regression equations in isolation for each quartet it would be easy to assume the data sets were very similar. The R^2 values viewed in isolation may also be misinterpreted as suggesting a strong linear relationship between the variables in all four data sets, when it is clear that this is not the case when the data is plotted. Having the plots visualised puts these raw statistics into context and in particular as stated earlier shows the effect of outliers (in quartet 3 and 4)\n",
    "___\n",
    "\n",
    "#### Summary Statistics\n",
    "When the summary statistics are viewed in isolation they appear to describe 4 identical datasets with identical means, max's and standard deviations. It is only when viewed alongside the plots of the data that their real differences become apparent. It is also woth noting that the x-values from quartet 1-3 are the same but only differ in the y-values. The 4th quartet has an entirely different set of x and y values yet the summary statistics of means, max's and standard deviations are identical.\n",
    "\n",
    "In conclusion; the Analysis of the DataSet serves as an excellent example of the importance of visualising data as well as investigating its descriptive statistics. Both approaches complement eachother and give a clearer and more accurate overall picture of the Data. \n",
    "___"
   ]
  }
 ],
 "metadata": {
  "kernelspec": {
   "display_name": "Python 3",
   "language": "python",
   "name": "python3"
  },
  "language_info": {
   "codemirror_mode": {
    "name": "ipython",
    "version": 3
   },
   "file_extension": ".py",
   "mimetype": "text/x-python",
   "name": "python",
   "nbconvert_exporter": "python",
   "pygments_lexer": "ipython3",
   "version": "3.6.6"
  }
 },
 "nbformat": 4,
 "nbformat_minor": 2
}
