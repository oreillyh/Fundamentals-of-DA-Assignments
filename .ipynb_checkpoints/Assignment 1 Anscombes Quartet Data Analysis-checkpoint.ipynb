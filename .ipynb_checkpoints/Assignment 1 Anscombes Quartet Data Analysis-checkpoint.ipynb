{
 "cells": [
  {
   "cell_type": "markdown",
   "metadata": {},
   "source": [
    "# **Fundamentals of Data Analytics Assignment 1**\n",
    "\n",
    "## **Anscombes DataSet Analysis**\n"
   ]
  },
  {
   "cell_type": "markdown",
   "metadata": {},
   "source": [
    "### 1. Background to the Data Set\n",
    "### 2. Interesting Aspects\n",
    "### 3. Descriptive Statistics\n",
    "### 4. Discussion of Statistics and their Visualisation"
   ]
  },
  {
   "cell_type": "markdown",
   "metadata": {},
   "source": [
    "#### 1.Background to the Data Set\n",
    "\n",
    "Anscombes Dataset (or Anscombes Quartet) is a set of 4 datasets developed by a statistician Francis Anscombe in 1973 whose descriptive statistics are identical but when visualised graphically can be seen to be very different. The datasets also demonstrate the effect of outliers on summary statistics. Each of the 4 datasets has 11 x,y points [https://en.wikipedia.org/wiki/Anscombe%27s_quartet]\n"
   ]
  }
 ],
 "metadata": {
  "kernelspec": {
   "display_name": "Python 3",
   "language": "python",
   "name": "python3"
  },
  "language_info": {
   "codemirror_mode": {
    "name": "ipython",
    "version": 3
   },
   "file_extension": ".py",
   "mimetype": "text/x-python",
   "name": "python",
   "nbconvert_exporter": "python",
   "pygments_lexer": "ipython3",
   "version": "3.6.6"
  }
 },
 "nbformat": 4,
 "nbformat_minor": 2
}
